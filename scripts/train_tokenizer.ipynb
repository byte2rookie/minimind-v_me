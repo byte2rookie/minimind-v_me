{
 "cells": [
  {
   "cell_type": "markdown",
   "id": "c93f05c4",
   "metadata": {},
   "source": [
    "# 测试tokenizer的训练用脚本\n",
    "先data中下载相关数据集[tokenizer训练数据集](https://www.modelscope.cn/datasets/gongjy/minimind_dataset/resolve/master/pretrain_hq.jsonl)"
   ]
  },
  {
   "cell_type": "markdown",
   "id": "52503cf2",
   "metadata": {},
   "source": []
  }
 ],
 "metadata": {
  "language_info": {
   "name": "python"
  }
 },
 "nbformat": 4,
 "nbformat_minor": 5
}
