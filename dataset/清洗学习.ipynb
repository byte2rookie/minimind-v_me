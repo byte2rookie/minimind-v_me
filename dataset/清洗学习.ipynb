{
 "cells": [
  {
   "cell_type": "markdown",
   "id": "5f492120",
   "metadata": {},
   "source": [
    "## 关于data的来源和清洗的学习\n",
    "两个博主的文章很贴近生产环境，可以仔细学习下。\n",
    "### 清洗数据blog\n",
    "[清洗数据心得](https://zhuanlan.zhihu.com/p/718354385)<br>\n",
    "### 数据去重实践blog\n",
    "[LLM实践--数据去重：Simhash&Minhash 原理分析&代码实现](https://zhuanlan.zhihu.com/p/739101179)<br>\n",
    "这个博主LLM实践的一系列文章很有启发性，可以多读读他的博客\n",
    "## 其他的相关文章\n",
    "[文章1](https://www.cnblogs.com/theseventhson/p/18293145)"
   ]
  },
  {
   "cell_type": "markdown",
   "id": "d29536d6",
   "metadata": {},
   "source": []
  }
 ],
 "metadata": {
  "language_info": {
   "name": "python"
  }
 },
 "nbformat": 4,
 "nbformat_minor": 5
}
